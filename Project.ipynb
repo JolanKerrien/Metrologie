{
 "cells": [
  {
   "cell_type": "markdown",
   "id": "closed-locator",
   "metadata": {},
   "source": [
    "# Metrology Project"
   ]
  },
  {
   "cell_type": "code",
   "execution_count": 1,
   "id": "vertical-treaty",
   "metadata": {},
   "outputs": [],
   "source": [
    "import numpy as np\n",
    "from scipy import stats\n",
    "from math import sqrt\n",
    "from scipy.stats import chi2_contingency\n",
    "import pandas as pd\n",
    "#Ploting librairies:\n",
    "import matplotlib.pyplot as plt\n",
    "import seaborn as sns\n",
    "import pingouin as pg"
   ]
  },
  {
   "cell_type": "markdown",
   "id": "acknowledged-leisure",
   "metadata": {},
   "source": [
    "## Recap 1. 2. 3. Group part"
   ]
  },
  {
   "cell_type": "markdown",
   "id": "vertical-multiple",
   "metadata": {},
   "source": [
    "1.Energy balance of the system:  \n",
    "$Q1= ṁ_CC_{pC}(TB-TA)$  \n",
    "$Q1= ṁ_MC_{pM}(TG-TH)$  \n",
    "  \n",
    "$Q2 =  ṁ_MC_{pM}(TD-TC)$  \n",
    "$Q2=  ṁ_MC_{pM}(TF-TG)$  \n",
    "  \n",
    "$Q3 =  ṁ_MC_{pM}(TE-TD)$  \n",
    "$Q3= ṁ_HC_{pH}(TI-TJ)$\n"
   ]
  },
  {
   "cell_type": "markdown",
   "id": "adjusted-spell",
   "metadata": {},
   "source": [
    "3.We are searching for: Q1, Q2, Q3.  \n",
    "Those are not solvable with 1 or 2 sensors.  \n",
    "We need at least 3 sensors (35 + 35 = 70 possibilities to check).  \n",
    "Differents possible combinations with 3 sensors:   \n",
    "1. Tb, Td, Te (direct)\tMona  \n",
    "2. Tb, Te, Tg (find Td)\tHortense  \n",
    "3. Tb, Te, Th (find Tg, Td)  \n",
    "__4.Td, Te, Th (find Tg)\tJolan__  \n",
    "__5.Te, Tg, Th (find Td)\tJolan__  \n",
    "\n",
    "Different possible combinations with 4 sensors (excluding the ones possible with three):  \n",
    "6. mh, Tb, Td, Tj (direct)\tHortense  \n",
    "7. mh, Tb, Te, Tj (find Td)   Mona  \n",
    "8. mh, Tb, Tg, Tj (direct)\tJulien  \n",
    "9. mh, Tb, Th, Tj (find Tg)\tJulien  \n",
    "10. mh, Td, Th, Tj (find Tg)  \n",
    "11. mh, Te, Th, Tj (find Td,Tg)  \n",
    "12. mh, Tg, Th, Tj (direct)\n"
   ]
  },
  {
   "cell_type": "markdown",
   "id": "educational-johnston",
   "metadata": {},
   "source": [
    "## 4. Find their price and precision while comparing Monte Carlo and numerical derivative methods"
   ]
  },
  {
   "cell_type": "markdown",
   "id": "everyday-resident",
   "metadata": {},
   "source": [
    "In this part, I will deal with the combination __(Td, Te, Th)__ and __(Te, Tg, Th)__.  "
   ]
  },
  {
   "cell_type": "markdown",
   "id": "daily-nightmare",
   "metadata": {},
   "source": [
    "The value and the standard deviation of __Q1__, __Q2__, __Q3__ will be given with the numerical derivative method and the Monte Carlo one.   \n",
    "In order to access Q1, Q3 one has to access first __Tg__ for the first combination ( Td,Te,Th) and __Td__ for the second (Te,Tg,Th)."
   ]
  },
  {
   "cell_type": "code",
   "execution_count": 2,
   "id": "sublime-imaging",
   "metadata": {},
   "outputs": [],
   "source": [
    "#Init\n",
    "mM = 1 #kg/s\n",
    "CpM = 3800 #J/(kg.K)\n",
    "Tc = 5.5\n",
    "Tf = 65\n",
    "\n",
    "Th = 7\n",
    "deltaTh = 0.3\n",
    "Thprice = 400\n",
    "\n",
    "Te = 68.3\n",
    "deltaTe = 0.3\n",
    "Teprice = 500\n",
    "\n",
    "Td = 60.5\n",
    "deltaTd = 0.5\n",
    "Tdprice = 300\n",
    "\n",
    "Tg = 10\n",
    "deltaTg = 0.3\n",
    "Tgprice = 450"
   ]
  },
  {
   "cell_type": "markdown",
   "id": "minimal-scholarship",
   "metadata": {},
   "source": [
    "### __Numerical derivative method__"
   ]
  },
  {
   "cell_type": "code",
   "execution_count": 3,
   "id": "advisory-machinery",
   "metadata": {},
   "outputs": [],
   "source": [
    "#Functions\n",
    "\n",
    "def Q_(m,Cp,Tout,Tin):\n",
    "    return m*Cp*(Tout-Tin)\n",
    "\n",
    "def T_(Q2,m,Cp,Tin):\n",
    "    #-Q2 for Tg\n",
    "    return Tin + Q2/(m*Cp)\n",
    "\n",
    "def std_Q(m,C,Tout,Tin,deltaTout,deltaTin):\n",
    "    dQdTout = (Q_(m,C,Tout+(deltaTout/1000),Tin)-Q_(m,C,Tout,Tin))/(deltaTout/1000)\n",
    "    dQdTin = (Q_(m,C,Tout,Tin+(deltaTin/1000))-Q_(m,C,Tout,Tin))/(deltaTin/1000)\n",
    "    Q = Q_(m,C,Tout,Tin)\n",
    "    return np.sqrt(dQdTout**2*(deltaTout/Q)**2\n",
    "                    +dQdTin**2*(deltaTin/Q)**2)\n",
    "\n",
    "def std_Q2(m,C,Tout,Tin,deltaTout):\n",
    "    dQdTout = (Q_(m,C,Tout+(deltaTout/1000),Tin)-Q_(m,C,Tout,Tin))/(deltaTout/1000)\n",
    "    Q = Q_(m,C,Tout,Tin)\n",
    "    return dQdTout*(deltaTout/Q)\n",
    "\n",
    "def std_T(m,C,T2,Q2,deltaQ2):\n",
    "    #-Q2 for Tg\n",
    "    dTdQ2 = (T_(Q2+(deltaQ2/1000),m,C,T2)-T_(Q2,m,C,T2))/(deltaQ2/1000)\n",
    "    T = T_(Q2,m,C,T2)\n",
    "    return dTdQ2*(deltaQ2/T)"
   ]
  },
  {
   "cell_type": "markdown",
   "id": "aggregate-strength",
   "metadata": {},
   "source": [
    "##### __(Td, Te, Th)__"
   ]
  },
  {
   "cell_type": "code",
   "execution_count": 4,
   "id": "bottom-monaco",
   "metadata": {},
   "outputs": [],
   "source": [
    "#Q3 calculation\n",
    "Q3 = Q_(mM,CpM,Te,Td)\n",
    "stdQ3 = std_Q(mM,CpM,Te,Td,deltaTe,deltaTd)\n",
    "\n",
    "#Q2 Calculation\n",
    "Q2 = Q_(mM,CpM,Td,Tc)\n",
    "stdQ2 = std_Q2(mM,CpM,Td,Tc,deltaTd)\n",
    "\n",
    "#Tg calculation\n",
    "Tg_calc = T_(-Q2,mM,CpM,Tf)\n",
    "stdTg = std_T(mM,CpM,Tf,-Q2,stdQ2*Q2) #stdQ2*Q2 is the absolute deviation\n",
    "\n",
    "#Q1 calculation\n",
    "Q1 = Q_(mM,CpM,Tg_calc,Th)\n",
    "stdQ1 = std_Q(mM,CpM,Tg_calc,Th,stdTg*Tg,deltaTh) #Same here for stdTg*Tg\n",
    "\n",
    "#Total Error\n",
    "ErrorComb = (1/3)*(np.sqrt(stdQ1**2+stdQ2**2+stdQ3**2)) #1/nb of std"
   ]
  },
  {
   "cell_type": "code",
   "execution_count": 5,
   "id": "powered-joining",
   "metadata": {},
   "outputs": [
    {
     "name": "stdout",
     "output_type": "stream",
     "text": [
      "Q1 = 11400.0J +/- 19.43650631642749%\n",
      "et\n",
      "Q2 = 209000.0 +/- 0.9090909091020493%\n",
      "et\n",
      "Q3 = 29639.99999999999 +/- 7.475579352364763%\n",
      "The total error with the derivative method is 6.948129330362877%\n"
     ]
    }
   ],
   "source": [
    "print(f\"Q1 = {Q1}J +/- {stdQ1*100}%\")\n",
    "print(\"et\")\n",
    "print(f\"Q2 = {Q2} +/- {stdQ2*100}%\")\n",
    "print(\"et\")\n",
    "print(f\"Q3 = {Q3} +/- {stdQ3*100}%\")\n",
    "print(f\"The total error with the derivative method is {ErrorComb*100}%\")"
   ]
  },
  {
   "cell_type": "markdown",
   "id": "acoustic-feature",
   "metadata": {},
   "source": [
    "##### __(Te, Tg, Th)__"
   ]
  },
  {
   "cell_type": "code",
   "execution_count": 6,
   "id": "biblical-belgium",
   "metadata": {},
   "outputs": [],
   "source": [
    "#Q1 calculation\n",
    "Q1b = Q_(mM,CpM,Tg,Th)\n",
    "stdQ1b = std_Q(mM,CpM,Tg,Th,deltaTg,deltaTh)\n",
    "\n",
    "#Q2 calculation\n",
    "Q2b = Q_(mM,CpM,Tf,Tg)\n",
    "stdQ2b = std_Q2(mM,CpM,Tf,Tg,deltaTg)\n",
    "\n",
    "#Td calculation\n",
    "Td_calc = T_(Q2,mM,CpM,Tc)\n",
    "stdTd = std_T(mM,CpM,Tc,Q2b,stdQ2b*Q2b)\n",
    "\n",
    "#Q3 calculation\n",
    "Q3b = Q_(mM,CpM,Te,Td_calc)\n",
    "stdQ3b = std_Q(mM,CpM,Te,Td_calc,deltaTe,stdTd*Td_calc)\n",
    "\n",
    "#Total Error\n",
    "ErrorCombb = (1/3)*(np.sqrt(stdQ1b**2+stdQ2b**2+stdQ3b**2)) "
   ]
  },
  {
   "cell_type": "code",
   "execution_count": 7,
   "id": "promotional-aviation",
   "metadata": {},
   "outputs": [
    {
     "name": "stdout",
     "output_type": "stream",
     "text": [
      "Q1 = 11400 J +/- 14.142135623723732%\n",
      "et\n",
      "Q2 = 209000 J +/- 0.5454545454473043%\n",
      "et\n",
      "Q3 = 29639.99999999999 J +/- 5.439282932132004%\n",
      "The total error with the derivative method is 5.053967852387836%\n"
     ]
    }
   ],
   "source": [
    "print(f\"Q1 = {Q1b} J +/- {stdQ1b*100}%\")\n",
    "print(\"et\")\n",
    "print(f\"Q2 = {Q2b} J +/- {stdQ2b*100}%\")\n",
    "print(\"et\")\n",
    "print(f\"Q3 = {Q3b} J +/- {stdQ3b*100}%\")\n",
    "print(f\"The total error with the derivative method is {ErrorCombb*100}%\")"
   ]
  },
  {
   "cell_type": "markdown",
   "id": "detailed-metadata",
   "metadata": {},
   "source": [
    "### __Monte Carlo method__"
   ]
  },
  {
   "cell_type": "code",
   "execution_count": 37,
   "id": "boring-alcohol",
   "metadata": {},
   "outputs": [],
   "source": [
    "#Monte-Carlos function\n",
    "def std_QCarlos(m,C,Tout,Tin,deltaTout,deltaTin,M,epsilon):\n",
    "    Q, STD, Mean = [] , [] , []\n",
    "    Toutlist,Tinlist = [], []\n",
    "    for t in range(M):\n",
    "        Toutlist.append(np.random.normal(Tout,deltaTout))\n",
    "        Tinlist.append(np.random.normal(Tin,deltaTin))\n",
    "        Q.append(Q_(m,C,Toutlist[-1],Tinlist[-1]))\n",
    "        if len(Q)>10: #Force to do at least 10 iterations\n",
    "            STD.append(np.std(Q))\n",
    "            Mean.append(np.mean(Q))\n",
    "        if len(STD)>2 and abs(STD[-1] - STD[-2])/STD[-2]<epsilon and abs(Mean[-1] - Mean[-2])/Mean[-2]<epsilon:\n",
    "            return Mean, STD\n",
    "        \n",
    "def std_Q2Carlos(m,C,Tout,Tin,deltaTout,M,epsilon = 1e-5):\n",
    "    #Need a higher precision epsilon to converge\n",
    "    Q, STD, Mean = [] , [] , []\n",
    "    Toutlist = []\n",
    "    for t in range(M):\n",
    "        Toutlist.append(np.random.normal(Tout,deltaTout))\n",
    "        Q.append(Q_(m,C,Toutlist[-1],Tin))\n",
    "        if len(Q)>10:\n",
    "            STD.append(np.std(Q))\n",
    "            Mean.append(np.mean(Q))\n",
    "        if len(STD)>2 and abs(STD[-1] - STD[-2])/STD[-2]<epsilon and abs(Mean[-1] - Mean[-2])/Mean[-2]<epsilon:\n",
    "            return Mean, STD      \n",
    "\n",
    "def std_TCarlos(m,C,T2,Q2,deltaQ2,M, epsilon = 1e-5):\n",
    "    # -Q2 for Tg\n",
    "    #Need a higher precision epsilon to converge propely\n",
    "    T, STD, Mean = [] , [] , []\n",
    "    Q2list = []\n",
    "    for t in range(M):\n",
    "        Q2list.append(np.random.normal(Q2,deltaQ2))\n",
    "        T.append(T_(Q2list[-1],m,C,T2))\n",
    "        if len(T)>10:\n",
    "            STD.append(np.std(T))\n",
    "            Mean.append(np.mean(T))\n",
    "        if len(STD)>2 and abs(STD[-1] - STD[-2])/STD[-2]<epsilon and abs(Mean[-1] - Mean[-2])/Mean[-2]<epsilon:\n",
    "            return Mean, STD\n",
    "        \n",
    "def PlotConv(STD,Mean,name):\n",
    "    fig, axs = plt.subplots(2,1)\n",
    "    T = np.linspace(10,len(STD),len(STD))\n",
    "    axs[0].plot(T,STD,'r',label = 'Standard deviation of '+name)\n",
    "    axs[0].legend()\n",
    "    axs[1].plot(T,Mean,'b', label = 'Mean of ' + name)\n",
    "    axs[1].set_xlabel('Nb of iterations')\n",
    "    axs[1].legend()"
   ]
  },
  {
   "cell_type": "markdown",
   "id": "latest-slide",
   "metadata": {},
   "source": [
    "##### __(Td, Te, Th)__"
   ]
  },
  {
   "cell_type": "code",
   "execution_count": 56,
   "id": "artificial-virginia",
   "metadata": {},
   "outputs": [
    {
     "data": {
      "image/png": "[encoded data removed]",
      "text/plain": [
       "<Figure size 432x288 with 2 Axes>"
      ]
     },
     "metadata": {
      "needs_background": "light"
     },
     "output_type": "display_data"
    }
   ],
   "source": [
    "#MonteCarlos paramaters\n",
    "M = int(1e4)\n",
    "epsilon = 1e-4\n",
    "\n",
    "#Q3 calculation\n",
    "MeanQ3Carlos, STDQ3Carlos = std_QCarlos(mM,CpM,Te,Td,deltaTe,deltaTd,M,epsilon)\n",
    "#PlotConv(MeanQ3Carlos,STDQ3Carlos,\"Q3\")\n",
    "Q3Carlos , stdQ3Carlos = MeanQ3Carlos[-1], STDQ3Carlos[-1]\n",
    "# % std: stdQ3Carlos/Q3Carlos*100\n",
    "\n",
    "#Q2 Calculation\n",
    "MeanQ2Carlos, STDQ2Carlos = std_Q2Carlos(mM,CpM,Td,Tc,deltaTd,M)\n",
    "#PlotConv(MeanQ2Carlos,STDQ2Carlos,\"Q2\")\n",
    "Q2Carlos , stdQ2Carlos = MeanQ2Carlos[-1], STDQ2Carlos[-1]\n",
    "# % std: stdQ2Carlos/Q2Carlos*100\n",
    "\n",
    "#Tg calculation\n",
    "MeanTgCarlos, STDTgCarlos = std_TCarlos(mM,CpM,Tf,-Q2Carlos,stdQ2Carlos,M)\n",
    "#PlotConv(MeanTgCarlos,STDTgCarlos,\"Tg\")\n",
    "TgCarlos , stdTgCarlos = MeanTgCarlos[-1], STDTgCarlos[-1]\n",
    "# % std: stdTgCarlos/TgCarlos*100\n",
    "\n",
    "#Q1 calculation\n",
    "MeanQ1Carlos, STDQ1Carlos = std_QCarlos(mM,CpM,TgCarlos,Th,stdTgCarlos,deltaTh,M,epsilon)\n",
    "PlotConv(MeanQ1Carlos,STDQ1Carlos,\"Q1\")\n",
    "Q1Carlos , stdQ1Carlos = MeanQ1Carlos[-1], STDQ1Carlos[-1]\n",
    "# % std: stdQ1Carlos/Q1Carlos*100\n",
    "\n",
    "#Total Error\n",
    "ErrorCombCarlos = (1/3)*(np.sqrt((stdQ1Carlos/Q1Carlos)**2\n",
    "                           +(stdQ2Carlos/Q2Carlos)**2\n",
    "                           +(stdQ3Carlos/Q3Carlos)**2))"
   ]
  },
  {
   "cell_type": "code",
   "execution_count": 57,
   "id": "moving-hurricane",
   "metadata": {},
   "outputs": [
    {
     "name": "stdout",
     "output_type": "stream",
     "text": [
      "Q1 = 11621.097550555543 J +/- 19.198787932703897%\n",
      "et\n",
      "Q2 = 208978.13865085825 J +/- 0.9326171129923797%\n",
      "et\n",
      "Q3 = 29607.053669113564 J+/- 7.543441297108597%\n",
      "The total error with the Monte Carlos is 6.882883273158345%\n"
     ]
    }
   ],
   "source": [
    "print(f\"Q1 = {Q1Carlos} J +/- {stdQ1Carlos/Q1Carlos*100}%\")\n",
    "print(\"et\")\n",
    "print(f\"Q2 = {Q2Carlos} J +/- {stdQ2Carlos/Q2Carlos*100}%\")\n",
    "print(\"et\")\n",
    "print(f\"Q3 = {Q3Carlos} J+/- {stdQ3Carlos/Q3Carlos*100}%\")\n",
    "print(f\"The total error with the Monte Carlos is {ErrorCombCarlos*100}%\")"
   ]
  },
  {
   "cell_type": "markdown",
   "id": "related-refrigerator",
   "metadata": {},
   "source": [
    "##### __(Te, Tg, Th)__"
   ]
  },
  {
   "cell_type": "code",
   "execution_count": 40,
   "id": "moving-transportation",
   "metadata": {},
   "outputs": [
    {
     "data": {
      "image/png": "[encoded data removed]",
      "text/plain": [
       "<Figure size 432x288 with 2 Axes>"
      ]
     },
     "metadata": {
      "needs_background": "light"
     },
     "output_type": "display_data"
    }
   ],
   "source": [
    "#MonteCarlos paramaters\n",
    "M = int(1e4)\n",
    "epsilon = 1e-4\n",
    "\n",
    "#Q1 calculation\n",
    "MeanQ1bCarlos, STDQ1bCarlos = std_QCarlos(mM,CpM,Tg,Th,deltaTg,deltaTh,M,epsilon)\n",
    "#PlotConv(MeanQ1bCarlos,STDQ1bCarlos,\"Q1\")\n",
    "Q1bCarlos , stdQ1bCarlos = MeanQ1bCarlos[-1], STDQ1bCarlos[-1]\n",
    "# % std: stdQ1bCarlos/Q1bCarlos*100\n",
    "\n",
    "#Q2 Calculation\n",
    "MeanQ2bCarlos, STDQ2bCarlos = std_Q2Carlos(mM,CpM,Tf,Tg,deltaTg,M)\n",
    "#PlotConv(MeanQ2bCarlos,STDQ2bCarlos,\"Q2\")\n",
    "Q2bCarlos , stdQ2bCarlos = MeanQ2bCarlos[-1], STDQ2bCarlos[-1]\n",
    "# % std: stdQ2bCarlos/Q2bCarlos*100\n",
    "\n",
    "#Td calculation\n",
    "MeanTdCarlos, STDTdCarlos = std_TCarlos(mM,CpM,Tc,Q2bCarlos,stdQ2bCarlos,M)\n",
    "#PlotConv(MeanTdCarlos,STDTdCarlos,\"Td\")\n",
    "TdCarlos , stdTdCarlos = MeanTdCarlos[-1], STDTdCarlos[-1]\n",
    "# % std: stdTdCarlos/TdCarlos*100\n",
    "\n",
    "#Q3calculation\n",
    "MeanQ3bCarlos, STDQ3bCarlos = std_QCarlos(mM,CpM,Te,TdCarlos,deltaTe,stdTdCarlos,M,epsilon)\n",
    "PlotConv(MeanQ3bCarlos,STDQ3bCarlos,\"Q3\")\n",
    "Q3bCarlos , stdQ3bCarlos = MeanQ3bCarlos[-1], STDQ3bCarlos[-1]\n",
    "# % std: stdQ3bCarlos/Q3bCarlos*100\n",
    "\n",
    "#Total Error\n",
    "ErrorCombCarlosb = (1/3)*(np.sqrt((stdQ1bCarlos/Q1bCarlos)**2\n",
    "                           +(stdQ2bCarlos/Q2bCarlos)**2\n",
    "                           +(stdQ3bCarlos/Q3bCarlos)**2)) "
   ]
  },
  {
   "cell_type": "code",
   "execution_count": 42,
   "id": "animal-ranch",
   "metadata": {},
   "outputs": [
    {
     "name": "stdout",
     "output_type": "stream",
     "text": [
      "Q1 = 11428.341154584079 J +/- 14.049590256210184%\n",
      "et\n",
      "Q2 = 208977.55735124546 J +/- 0.5364695066725714%\n",
      "et\n",
      "Q3 = 29695.313155252825 J+/- 5.493263441935309%\n",
      "The total error with the Monte Carlos is 5.031619235080499%\n"
     ]
    }
   ],
   "source": [
    "print(f\"Q1 = {Q1bCarlos} J +/- {stdQ1bCarlos/Q1bCarlos*100}%\")\n",
    "print(\"et\")\n",
    "print(f\"Q2 = {Q2bCarlos} J +/- {stdQ2bCarlos/Q2bCarlos*100}%\")\n",
    "print(\"et\")\n",
    "print(f\"Q3 = {Q3bCarlos} J+/- {stdQ3bCarlos/Q3bCarlos*100}%\")\n",
    "print(f\"The total error with the Monte Carlos is {ErrorCombCarlosb*100}%\")"
   ]
  },
  {
   "cell_type": "markdown",
   "id": "american-watson",
   "metadata": {},
   "source": [
    "#### Bilan"
   ]
  },
  {
   "cell_type": "code",
   "execution_count": 58,
   "id": "decimal-instrument",
   "metadata": {},
   "outputs": [
    {
     "data": {
      "text/html": [
       "<div>\n",
       "<style scoped>\n",
       "    .dataframe tbody tr th:only-of-type {\n",
       "        vertical-align: middle;\n",
       "    }\n",
       "\n",
       "    .dataframe tbody tr th {\n",
       "        vertical-align: top;\n",
       "    }\n",
       "\n",
       "    .dataframe thead th {\n",
       "        text-align: right;\n",
       "    }\n",
       "</style>\n",
       "<table border=\"1\" class=\"dataframe\">\n",
       "  <thead>\n",
       "    <tr style=\"text-align: right;\">\n",
       "      <th></th>\n",
       "      <th>Derivative method for (Td, Te, Th) [%]</th>\n",
       "      <th>Monte Carlos method for (Td, Te, Th) [%]</th>\n",
       "      <th>Derivative method for (Te,Tg,Th) [%]</th>\n",
       "      <th>Monte Carlos method for (Te,Tg,Th) [%]</th>\n",
       "    </tr>\n",
       "  </thead>\n",
       "  <tbody>\n",
       "    <tr>\n",
       "      <th>Q1</th>\n",
       "      <td>19.436506</td>\n",
       "      <td>19.198788</td>\n",
       "      <td>14.142136</td>\n",
       "      <td>14.049590</td>\n",
       "    </tr>\n",
       "    <tr>\n",
       "      <th>Q2</th>\n",
       "      <td>0.909091</td>\n",
       "      <td>0.932617</td>\n",
       "      <td>0.545455</td>\n",
       "      <td>0.536470</td>\n",
       "    </tr>\n",
       "    <tr>\n",
       "      <th>Q3</th>\n",
       "      <td>7.475579</td>\n",
       "      <td>7.543441</td>\n",
       "      <td>5.439283</td>\n",
       "      <td>5.493263</td>\n",
       "    </tr>\n",
       "    <tr>\n",
       "      <th>Total error</th>\n",
       "      <td>6.948129</td>\n",
       "      <td>6.882883</td>\n",
       "      <td>5.053968</td>\n",
       "      <td>5.031619</td>\n",
       "    </tr>\n",
       "  </tbody>\n",
       "</table>\n",
       "</div>"
      ],
      "text/plain": [
       "             Derivative method for (Td, Te, Th) [%]  \\\n",
       "Q1                                        19.436506   \n",
       "Q2                                         0.909091   \n",
       "Q3                                         7.475579   \n",
       "Total error                                6.948129   \n",
       "\n",
       "             Monte Carlos method for (Td, Te, Th) [%]  \\\n",
       "Q1                                          19.198788   \n",
       "Q2                                           0.932617   \n",
       "Q3                                           7.543441   \n",
       "Total error                                  6.882883   \n",
       "\n",
       "             Derivative method for (Te,Tg,Th) [%]  \\\n",
       "Q1                                      14.142136   \n",
       "Q2                                       0.545455   \n",
       "Q3                                       5.439283   \n",
       "Total error                              5.053968   \n",
       "\n",
       "             Monte Carlos method for (Te,Tg,Th) [%]  \n",
       "Q1                                        14.049590  \n",
       "Q2                                         0.536470  \n",
       "Q3                                         5.493263  \n",
       "Total error                                5.031619  "
      ]
     },
     "execution_count": 58,
     "metadata": {},
     "output_type": "execute_result"
    }
   ],
   "source": [
    "Bilan = pd.DataFrame(index = [\"Q1\", \"Q2\",\"Q3\",\"Total error\"])\n",
    "Bilan[\"Derivative method for (Td, Te, Th) [%]\"] = [stdQ1*100,stdQ2*100,stdQ3*100,ErrorComb*100]\n",
    "Bilan[\"Monte Carlos method for (Td, Te, Th) [%]\"] = [stdQ1Carlos/Q1Carlos*100,stdQ2Carlos/Q2Carlos*100,\n",
    "                                                     stdQ3Carlos/Q3Carlos*100,ErrorCombCarlos*100]\n",
    "Bilan[\"Derivative method for (Te,Tg,Th) [%]\"] = [stdQ1b*100,stdQ2b*100,stdQ3b*100,ErrorCombb*100]\n",
    "Bilan[\"Monte Carlos method for (Te,Tg,Th) [%]\"] = [stdQ1bCarlos/Q1bCarlos*100,stdQ2bCarlos/Q2bCarlos*100,\n",
    "                                                   stdQ3bCarlos/Q3bCarlos*100,ErrorCombCarlosb*100]\n",
    "Bilan"
   ]
  },
  {
   "cell_type": "markdown",
   "id": "outdoor-passion",
   "metadata": {},
   "source": [
    "The standard deviation for each method are similar conforting us in the validiy of the error results.    \n",
    "We were able to see that the Monte Carlos method is more variable when different standard deviation are calculated which is normal because the heat is calculated with a temperature that can vary itself. \n",
    "One has to be careful and looking at all convergence curves to be sure to obtain a good convergence for each measure.  \n",
    "Now, to not influence a method over an other we will take the mean value of the two total error obtained for each method."
   ]
  },
  {
   "cell_type": "code",
   "execution_count": 59,
   "id": "korean-therapy",
   "metadata": {},
   "outputs": [],
   "source": [
    "Error1 = np.mean([ErrorComb,ErrorCombCarlos])\n",
    "Error2 = np.mean([ErrorCombb,ErrorCombCarlosb])"
   ]
  },
  {
   "cell_type": "markdown",
   "id": "southern-oasis",
   "metadata": {},
   "source": [
    "### Price calculation"
   ]
  },
  {
   "cell_type": "markdown",
   "id": "thrown-roulette",
   "metadata": {},
   "source": [
    "##### __(Td, Te, Th)__"
   ]
  },
  {
   "cell_type": "code",
   "execution_count": 60,
   "id": "empty-malpractice",
   "metadata": {},
   "outputs": [
    {
     "name": "stdout",
     "output_type": "stream",
     "text": [
      "The price of this combination is 1200 €\n"
     ]
    }
   ],
   "source": [
    "price = Tdprice+Teprice+Thprice\n",
    "print(f\"The price of this combination is {price} €\")"
   ]
  },
  {
   "cell_type": "markdown",
   "id": "suited-oracle",
   "metadata": {},
   "source": [
    "##### __(Te, Tg, Th)__"
   ]
  },
  {
   "cell_type": "code",
   "execution_count": 61,
   "id": "patent-minister",
   "metadata": {},
   "outputs": [
    {
     "name": "stdout",
     "output_type": "stream",
     "text": [
      "The price of this combination is 1350 €\n"
     ]
    }
   ],
   "source": [
    "priceb = Tgprice+Teprice+Thprice\n",
    "print(f\"The price of this combination is {priceb} €\")"
   ]
  },
  {
   "cell_type": "markdown",
   "id": "double-hypothetical",
   "metadata": {},
   "source": [
    "## 5. Draw Pareto Curve and Suggest the best solution"
   ]
  },
  {
   "cell_type": "markdown",
   "id": "united-sender",
   "metadata": {},
   "source": [
    "My results:"
   ]
  },
  {
   "cell_type": "code",
   "execution_count": 64,
   "id": "filled-orlando",
   "metadata": {},
   "outputs": [
    {
     "data": {
      "text/html": [
       "<div>\n",
       "<style scoped>\n",
       "    .dataframe tbody tr th:only-of-type {\n",
       "        vertical-align: middle;\n",
       "    }\n",
       "\n",
       "    .dataframe tbody tr th {\n",
       "        vertical-align: top;\n",
       "    }\n",
       "\n",
       "    .dataframe thead th {\n",
       "        text-align: right;\n",
       "    }\n",
       "</style>\n",
       "<table border=\"1\" class=\"dataframe\">\n",
       "  <thead>\n",
       "    <tr style=\"text-align: right;\">\n",
       "      <th></th>\n",
       "      <th>Incertitude [%]</th>\n",
       "      <th>Price [€]</th>\n",
       "    </tr>\n",
       "  </thead>\n",
       "  <tbody>\n",
       "    <tr>\n",
       "      <th>(Td, Te, Th)</th>\n",
       "      <td>6.915506</td>\n",
       "      <td>1200</td>\n",
       "    </tr>\n",
       "    <tr>\n",
       "      <th>(Te,Tg,Th)</th>\n",
       "      <td>5.053968</td>\n",
       "      <td>1350</td>\n",
       "    </tr>\n",
       "  </tbody>\n",
       "</table>\n",
       "</div>"
      ],
      "text/plain": [
       "              Incertitude [%]  Price [€]\n",
       "(Td, Te, Th)         6.915506       1200\n",
       "(Te,Tg,Th)           5.053968       1350"
      ]
     },
     "execution_count": 64,
     "metadata": {},
     "output_type": "execute_result"
    }
   ],
   "source": [
    "Pareto = pd.DataFrame(index = [\"(Td, Te, Th)\", \"(Te,Tg,Th)\"])\n",
    "Pareto[\"Incertitude [%]\"] = [Error1*100, ErrorCombb*100]\n",
    "Pareto[\"Price [€]\"] = [price, priceb]\n",
    "#sns.lmplot(x = 'Prix [€]', y = 'Incertitude [%]', data = Pareto, fit_reg=False)\n",
    "Pareto"
   ]
  },
  {
   "cell_type": "markdown",
   "id": "separated-position",
   "metadata": {},
   "source": [
    "Added to the results of everyone:"
   ]
  },
  {
   "cell_type": "code",
   "execution_count": 65,
   "id": "exempt-internship",
   "metadata": {},
   "outputs": [
    {
     "data": {
      "text/plain": [
       "(800.0, 2800.0)"
      ]
     },
     "execution_count": 65,
     "metadata": {},
     "output_type": "execute_result"
    },
    {
     "data": {
      "image/png": "[encoded data removed]",
      "text/plain": [
       "<Figure size 475.25x360 with 1 Axes>"
      ]
     },
     "metadata": {
      "needs_background": "light"
     },
     "output_type": "display_data"
    }
   ],
   "source": [
    "#Data of the others\n",
    "Pareto.loc[2] = [2.77173,1600] # 1. Tb, Td, Te\n",
    "Pareto.loc[3] = [2.074356,1750] # 2. Tb, Te, Tg\n",
    "Pareto.loc[4] = [1.238,1700] # 3. Tb, Te, Th\n",
    "Pareto.loc[5] = [3.358661,2450] # 6.  mh, Tb, Td, Tj\n",
    "Pareto.loc[6] = [3.1666,2650] # 7.  mh, Tb, Te, Tj\n",
    "Pareto.loc[7] = [2.7957386,2600] # 8. mh, Tb, Tg, Tj\n",
    "Pareto.loc[8] = [2.98562,2550] # 9. mh, Tb, Th, Tj\n",
    "Pareto.loc[9] = [7.02101,2050] # 10. mh, Td, Th, Tj\n",
    "Pareto.loc[10] = [7.93505,2250] # 11. mh, Te, Th, Tj\n",
    "Pareto.loc[11] = [6.00544,2200] # 12. mh, Tg, Th, Tj \n",
    "\n",
    "# change index name\n",
    "Pareto.rename(index = {2: '(Tb, Td, Te)', \n",
    "                        3: '(Tb, Te, Tg)', \n",
    "                        4:'(Tb, Te, Th)', \n",
    "                        5:'(mh, Tb, Td, Tj)',\n",
    "                        6:'(mh, Tb, Te, Tj)', \n",
    "                        7:'(mh, Tb, Tg, Tj)', \n",
    "                        8:'(mh, Tb, Th, Tj)',\n",
    "                        9:'(mh, Td, Th, Tj )',\n",
    "                        10:'(mh, Te, Th, Tj)',\n",
    "                        11:'(mh, Tg, Th, Tj)'}, inplace = True)\n",
    "\n",
    "#Plot\n",
    "Pareto['Combination'] = Pareto.index\n",
    "sns.lmplot(x = 'Price [€]', y = 'Incertitude [%]', data = Pareto, fit_reg=False,hue= 'Combination', legend = True)\n",
    "plt.title(\"Pareto diagram Price - Incertitude\")\n",
    "plt.grid(axis ='y')\n",
    "plt.ylim([1,8])\n",
    "plt.xlim([800,2800])"
   ]
  },
  {
   "cell_type": "markdown",
   "id": "fallen-ceramic",
   "metadata": {},
   "source": [
    "According to this Pareto diagram the best solution seems to be __(Tb,Te,Th)__ at 1700€.  \n",
    "Another solution a bit less expensive could be the __(Tb,Td,Te)__ at 1600€.  "
   ]
  }
 ],
 "metadata": {
  "kernelspec": {
   "display_name": "Python 3",
   "language": "python",
   "name": "python3"
  },
  "language_info": {
   "codemirror_mode": {
    "name": "ipython",
    "version": 3
   },
   "file_extension": ".py",
   "mimetype": "text/x-python",
   "name": "python",
   "nbconvert_exporter": "python",
   "pygments_lexer": "ipython3",
   "version": "3.8.5"
  }
 },
 "nbformat": 4,
 "nbformat_minor": 5
}
